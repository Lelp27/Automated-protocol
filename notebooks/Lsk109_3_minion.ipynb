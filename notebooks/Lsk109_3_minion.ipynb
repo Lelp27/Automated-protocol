{
 "cells": [
  {
   "cell_type": "code",
   "execution_count": 1,
   "metadata": {},
   "outputs": [],
   "source": [
    "from opentrons import execute, types"
   ]
  },
  {
   "cell_type": "code",
   "execution_count": 2,
   "metadata": {},
   "outputs": [],
   "source": [
    "metadata = {\n",
    "    'protocolName': 'Nanopore LSK109(3) Adapter Ligation_miniON',\n",
    "    'author': 'Seong-Kun Bak <tjdrns27@kribb.re.kr>',\n",
    "    'apiLevel': '2.11'\n",
    "}"
   ]
  },
  {
   "cell_type": "code",
   "execution_count": 4,
   "metadata": {},
   "outputs": [
    {
     "name": "stderr",
     "output_type": "stream",
     "text": [
      "Failed to initialize character device, will not be able to control gpios (lights, button, smoothiekill, smoothie reset). Only one connection can be made to the gpios at a time. If you need to control gpios, first stop the robot server with systemctl stop opentrons-robot-server. Until you restart the server with systemctl start opentrons-robot-server, you will be unable to control the robot using the Opentrons app.\n"
     ]
    }
   ],
   "source": [
    "protocol = execute.get_protocol_api(\"2.11\")"
   ]
  },
  {
   "cell_type": "code",
   "execution_count": 200,
   "metadata": {},
   "outputs": [],
   "source": [
    "protocol.home()"
   ]
  },
  {
   "cell_type": "code",
   "execution_count": 6,
   "metadata": {},
   "outputs": [],
   "source": [
    "module_thermocycler = protocol.load_module(\"thermocycler\")\n",
    "module_magnetic = protocol.load_module('magnetic module gen2', '4')\n",
    "#module_thermocycler = protocol.load_module(\"thermocycler\", \"7\")"
   ]
  },
  {
   "cell_type": "code",
   "execution_count": 7,
   "metadata": {},
   "outputs": [],
   "source": [
    "import json\n",
    "with open(\"./labware/bioneer_96_tuberack_200ul.json\") as labware_file:\n",
    "    bioneer_tube = json.load(labware_file)\n",
    "with open(\"./labware/biorad_96_tuberack_200ul.json\") as labware_file:\n",
    "    biorad_tube = json.load(labware_file)"
   ]
  },
  {
   "cell_type": "code",
   "execution_count": 8,
   "metadata": {},
   "outputs": [
    {
     "name": "stderr",
     "output_type": "stream",
     "text": [
      "This labware ({}) is not explicitly compatible with the Magnetic Module. You will have to specify a height when calling engage().\n"
     ]
    }
   ],
   "source": [
    "enzyme_rack = protocol.load_labware(\"opentrons_24_tuberack_eppendorf_1.5ml_safelock_snapcap\", 1)\n",
    "falcon_rack = protocol.load_labware(\"opentrons_6_tuberack_falcon_50ml_conical\", 2)\n",
    "dna_plate = protocol.load_labware_from_definition(bioneer_tube, 5)\n",
    "mag_plate = module_magnetic.load_labware(\"biorad_96_tuberack_200ul\", 4)\n",
    "trash = protocol.loaded_labwares[12][\"A1\"]\n",
    "\n",
    "tiprack_20_sin = protocol.load_labware(\"opentrons_96_tiprack_20ul\", 3)\n",
    "tiprack_300_sin = protocol.load_labware(\"opentrons_96_tiprack_300ul\", 6)"
   ]
  },
  {
   "cell_type": "code",
   "execution_count": 9,
   "metadata": {},
   "outputs": [],
   "source": [
    "p20_sin = protocol.load_instrument(\"p20_single_gen2\", \"right\", tip_racks=[tiprack_20_sin])\n",
    "p300_sin = protocol.load_instrument(\"p300_single_gen2\", \"left\", tip_racks=[tiprack_300_sin])"
   ]
  },
  {
   "cell_type": "code",
   "execution_count": 14,
   "metadata": {},
   "outputs": [],
   "source": [
    "## Start Tiprack positions\n",
    "p20_sin.starting_tip = tiprack_20_sin.well(\"A3\")\n",
    "p300_sin.starting_tip = tiprack_300_sin.well(\"F3\")"
   ]
  },
  {
   "cell_type": "code",
   "execution_count": 15,
   "metadata": {},
   "outputs": [],
   "source": [
    "## Sample Wells\n",
    "start_position = 0 ## start from A1\n",
    "sample_number = 2"
   ]
  },
  {
   "cell_type": "code",
   "execution_count": 16,
   "metadata": {},
   "outputs": [],
   "source": [
    "dna_well = [dna_plate.wells()[i] for i in range(start_position, start_position + sample_number)]\n",
    "final_well = [dna_plate.wells()[i] for i in range(start_position + 16, start_position + 16 + sample_number)]\n",
    "mag_well = [mag_plate.wells()[i] for i in range(start_position, start_position + sample_number)]"
   ]
  },
  {
   "cell_type": "markdown",
   "metadata": {},
   "source": [
    "## Reagents"
   ]
  },
  {
   "cell_type": "code",
   "execution_count": 17,
   "metadata": {},
   "outputs": [],
   "source": [
    "ligation_buf = enzyme_rack[\"A1\"]\n",
    "t4_ligase = enzyme_rack[\"A2\"]\n",
    "adapter_II = enzyme_rack[\"A3\"]\n",
    "\n",
    "water = enzyme_rack[\"A5\"]"
   ]
  },
  {
   "cell_type": "code",
   "execution_count": 160,
   "metadata": {},
   "outputs": [],
   "source": [
    "ampure_beads = falcon_rack[\"A1\"]\n",
    "ethanol_70 = falcon_rack[\"A2\"]"
   ]
  },
  {
   "cell_type": "code",
   "execution_count": 107,
   "metadata": {},
   "outputs": [],
   "source": [
    "def enzyme_transfer(pipette, volume, src, dest, delay_second, asp_rate=None, dis_rate=None):\n",
    "    if asp_rate != None:\n",
    "        pipette.flow_rate.aspirate=asp_rate\n",
    "    if dis_rate != None:\n",
    "        pipette.flow_rate.dispense=dis_rate\n",
    "    pipette.pick_up_tip()\n",
    "    pipette.aspirate(volume, src)\n",
    "    protocol.delay(seconds=delay_second)\n",
    "    pipette.touch_tip()\n",
    "    pipette.dispense(volume, dest)\n",
    "    protocol.delay(seconds=delay_second/2)\n",
    "    pipette.blow_out()    \n",
    "    pipette.touch_tip()\n",
    "    pipette.drop_tip()"
   ]
  },
  {
   "cell_type": "code",
   "execution_count": null,
   "metadata": {},
   "outputs": [],
   "source": [
    "\"\"\"\n",
    "LNB position = (z=-19) #top 기준\n",
    "AMX z = -18 #top 기준\n",
    "\"\"\""
   ]
  },
  {
   "cell_type": "code",
   "execution_count": 109,
   "metadata": {},
   "outputs": [],
   "source": [
    "enzyme_transfer(p300_sin, 25, \n",
    "                ligation_buf.top().move(types.Point(-2,1,-19)),\n",
    "               dna_well[0], 1, asp_rate=25, dis_rate=20)"
   ]
  },
  {
   "cell_type": "code",
   "execution_count": null,
   "metadata": {},
   "outputs": [],
   "source": [
    "enzyme_transfer(p300_sin, 10, \n",
    "                t4_ligase,\n",
    "               dna_well[0], 1, asp_rate=10, dis_rate=10)"
   ]
  },
  {
   "cell_type": "code",
   "execution_count": null,
   "metadata": {},
   "outputs": [],
   "source": [
    "enzyme_transfer(p300_sin, 5, \n",
    "                adapter_II.top().move(types.Point(-1,1,-18)),\n",
    "               dna_well[0], 1, asp_rate=10, dis_rate=10)"
   ]
  },
  {
   "cell_type": "code",
   "execution_count": 165,
   "metadata": {},
   "outputs": [
    {
     "data": {
      "text/plain": [
       "<InstrumentContext: p300_single_v2.1 in LEFT>"
      ]
     },
     "execution_count": 165,
     "metadata": {},
     "output_type": "execute_result"
    }
   ],
   "source": [
    "p300_sin.flow_rate.aspirate=150\n",
    "p300_sin.flow_rate.dispense=150\n",
    "p300_sin.pick_up_tip()\n",
    "p300_sin.mix(5, 300, ampure_beads.bottom(z=3))\n",
    "protocol.delay(seconds=3)\n",
    "p300_sin.blow_out()\n",
    "p300_sin.touch_tip()\n",
    "protocol.delay(seconds=3)\n",
    "p300_sin.drop_tip()"
   ]
  },
  {
   "cell_type": "code",
   "execution_count": 171,
   "metadata": {},
   "outputs": [
    {
     "data": {
      "text/plain": [
       "<InstrumentContext: p300_single_v2.1 in LEFT>"
      ]
     },
     "execution_count": 171,
     "metadata": {},
     "output_type": "execute_result"
    }
   ],
   "source": [
    "# 옮기다 bead가 떨어지는 문제발생 = blowout 으로 해결\n",
    "p300_sin.flow_rate.aspirate=25\n",
    "p300_sin.flow_rate.dispense=25\n",
    "p300_sin.transfer(50, \n",
    "                  ampure_beads.bottom(z=15), \n",
    "                  dna_well[0], mix_after=(3, 30), \n",
    "                  touch_tip = True, blow_out = True, \n",
    "                  blowout_location='destination well', new_tip=\"always\")"
   ]
  },
  {
   "cell_type": "code",
   "execution_count": 174,
   "metadata": {},
   "outputs": [],
   "source": [
    "module_magnetic.engage(height_from_base=3)\n",
    "#protocol.delay(minutes=5)"
   ]
  },
  {
   "cell_type": "code",
   "execution_count": 194,
   "metadata": {},
   "outputs": [],
   "source": [
    "## Functions\n",
    "def remove_supernantant(pipette, volume, src, dest):\n",
    "    pipette.pick_up_tip()\n",
    "    pipette.flow_rate.aspirate=20\n",
    "    pipette.aspirate(volume, src.bottom().move(types.Point(x=-1, y=0, z=-4.1)))\n",
    "    pipette.dispense(volume, dest)\n",
    "    pipette.drop_tip()"
   ]
  },
  {
   "cell_type": "code",
   "execution_count": 176,
   "metadata": {},
   "outputs": [],
   "source": [
    "for src in mag_well:\n",
    "    remove_supernantant(p300_sin, 120, src, trash)"
   ]
  },
  {
   "cell_type": "code",
   "execution_count": 198,
   "metadata": {},
   "outputs": [],
   "source": [
    "p300_sin.flow_rate.aspirate=100\n",
    "p300_sin.flow_rate.dispense=50\n",
    "for _ in range(2):\n",
    "    ## Ethanol\n",
    "    p300_sin.pick_up_tip()\n",
    "    for src in mag_well:\n",
    "        p300_sin.flow_rate.aspirate=100\n",
    "        p300_sin.flow_rate.dispense=50\n",
    "        p300_sin.aspirate(190, ethanol_70)\n",
    "        p300_sin.dispense(190, src.top(-3))\n",
    "    p300_sin.drop_tip()\n",
    "    ## Remove\n",
    "    for src in mag_well:\n",
    "        remove_supernantant(p300_sin, 200, src, trash)"
   ]
  },
  {
   "cell_type": "code",
   "execution_count": 199,
   "metadata": {},
   "outputs": [],
   "source": [
    "module_magnetic.disengage()"
   ]
  },
  {
   "cell_type": "code",
   "execution_count": null,
   "metadata": {},
   "outputs": [],
   "source": []
  },
  {
   "cell_type": "code",
   "execution_count": null,
   "metadata": {},
   "outputs": [],
   "source": []
  },
  {
   "cell_type": "code",
   "execution_count": null,
   "metadata": {},
   "outputs": [],
   "source": []
  },
  {
   "cell_type": "code",
   "execution_count": null,
   "metadata": {},
   "outputs": [],
   "source": []
  },
  {
   "cell_type": "code",
   "execution_count": 155,
   "metadata": {},
   "outputs": [
    {
     "data": {
      "text/plain": [
       "<InstrumentContext: p300_single_v2.1 in LEFT>"
      ]
     },
     "execution_count": 155,
     "metadata": {},
     "output_type": "execute_result"
    }
   ],
   "source": [
    "p300_sin.flow_rate.asiprate=10\n",
    "p300_sin.flow_rate.dispense=10\n",
    "p300_sin.pick_up_tip()"
   ]
  },
  {
   "cell_type": "code",
   "execution_count": 156,
   "metadata": {},
   "outputs": [
    {
     "data": {
      "text/plain": [
       "<InstrumentContext: p300_single_v2.1 in LEFT>"
      ]
     },
     "execution_count": 156,
     "metadata": {},
     "output_type": "execute_result"
    }
   ],
   "source": [
    "p300_sin.aspirate(5, adapter_II.top().move(types.Point(-1,1,-18)))\n",
    "protocol.delay(seconds=1)\n",
    "p300_sin.touch_tip()"
   ]
  },
  {
   "cell_type": "code",
   "execution_count": 157,
   "metadata": {},
   "outputs": [
    {
     "data": {
      "text/plain": [
       "<InstrumentContext: p300_single_v2.1 in LEFT>"
      ]
     },
     "execution_count": 157,
     "metadata": {},
     "output_type": "execute_result"
    }
   ],
   "source": [
    "p300_sin.dispense(5, dna_well[1])\n",
    "protocol.delay(seconds=0.5)\n",
    "p300_sin.blow_out()\n",
    "p300_sin.touch_tip()\n",
    "p300_sin.move_to(dna_well[1].top())"
   ]
  },
  {
   "cell_type": "code",
   "execution_count": null,
   "metadata": {},
   "outputs": [],
   "source": []
  },
  {
   "cell_type": "code",
   "execution_count": 196,
   "metadata": {},
   "outputs": [
    {
     "data": {
      "text/plain": [
       "<InstrumentContext: p300_single_v2.1 in LEFT>"
      ]
     },
     "execution_count": 196,
     "metadata": {},
     "output_type": "execute_result"
    }
   ],
   "source": [
    "p300_sin.drop_tip()"
   ]
  },
  {
   "cell_type": "code",
   "execution_count": 58,
   "metadata": {},
   "outputs": [
    {
     "data": {
      "text/plain": [
       "<InstrumentContext: p300_single_v2.1 in LEFT>"
      ]
     },
     "execution_count": 58,
     "metadata": {},
     "output_type": "execute_result"
    }
   ],
   "source": [
    "p300_sin.move_to(ligation_buf.top())\n"
   ]
  },
  {
   "cell_type": "code",
   "execution_count": 50,
   "metadata": {},
   "outputs": [
    {
     "data": {
      "text/plain": [
       "<InstrumentContext: p300_single_v2.1 in LEFT>"
      ]
     },
     "execution_count": 50,
     "metadata": {},
     "output_type": "execute_result"
    }
   ],
   "source": [
    "# Nanopore tube position [ z = -19 ]\n",
    "p300_sin.move_to(ligation_buf.top().move(types.Point(-2,1,-19)))\n"
   ]
  },
  {
   "cell_type": "code",
   "execution_count": 48,
   "metadata": {},
   "outputs": [
    {
     "ename": "KeyboardInterrupt",
     "evalue": "",
     "output_type": "error",
     "traceback": [
      "\u001b[0;31m---------------------------------------------------------------------------\u001b[0m",
      "\u001b[0;31mKeyboardInterrupt\u001b[0m                         Traceback (most recent call last)",
      "\u001b[0;32m<ipython-input-48-c92e6a80f5e5>\u001b[0m in \u001b[0;36m<module>\u001b[0;34m()\u001b[0m\n\u001b[1;32m      1\u001b[0m p300_sin.transfer(25, ligation_buf.top().move(types.Point(-2,1,-19)),\n\u001b[0;32m----> 2\u001b[0;31m                   dna_well, touch_tip = True, new_tip=\"always\")\n\u001b[0m",
      "\u001b[0;32m/usr/lib/python3.7/site-packages/opentrons/commands/publisher.pyc\u001b[0m in \u001b[0;36m_decorated\u001b[0;34m(*args, **kwargs)\u001b[0m\n",
      "\u001b[0;32m/usr/lib/python3.7/site-packages/opentrons/protocols/api_support/util.pyc\u001b[0m in \u001b[0;36m_check_version_wrapper\u001b[0;34m(*args, **kwargs)\u001b[0m\n",
      "\u001b[0;32m/usr/lib/python3.7/site-packages/opentrons/protocol_api/instrument_context.pyc\u001b[0m in \u001b[0;36mtransfer\u001b[0;34m(self, volume, source, dest, trash, **kwargs)\u001b[0m\n",
      "\u001b[0;32m/usr/lib/python3.7/site-packages/opentrons/protocol_api/instrument_context.pyc\u001b[0m in \u001b[0;36m_execute_transfer\u001b[0;34m(self, plan)\u001b[0m\n",
      "\u001b[0;32m/usr/lib/python3.7/site-packages/opentrons/protocols/api_support/util.pyc\u001b[0m in \u001b[0;36m_check_version_wrapper\u001b[0;34m(*args, **kwargs)\u001b[0m\n",
      "\u001b[0;32m/usr/lib/python3.7/site-packages/opentrons/protocol_api/instrument_context.pyc\u001b[0m in \u001b[0;36mdrop_tip\u001b[0;34m(self, location, home_after)\u001b[0m\n",
      "\u001b[0;32m/usr/lib/python3.7/site-packages/opentrons/protocols/context/protocol_api/instrument_context.pyc\u001b[0m in \u001b[0;36mdrop_tip\u001b[0;34m(self, home_after)\u001b[0m\n",
      "\u001b[0;32m/usr/lib/python3.7/site-packages/opentrons/hardware_control/adapters.pyc\u001b[0m in \u001b[0;36mcall_coroutine_sync\u001b[0;34m(loop, to_call, *args, **kwargs)\u001b[0m\n",
      "\u001b[0;32m/usr/lib/python3.7/concurrent/futures/_base.pyc\u001b[0m in \u001b[0;36mresult\u001b[0;34m(self, timeout)\u001b[0m\n",
      "\u001b[0;32m/usr/lib/python3.7/threading.pyc\u001b[0m in \u001b[0;36mwait\u001b[0;34m(self, timeout)\u001b[0m\n",
      "\u001b[0;31mKeyboardInterrupt\u001b[0m: "
     ]
    }
   ],
   "source": [
    "p300_sin.transfer(25, ligation_buf.top().move(types.Point(-2,1,-19)),\n",
    "                  dna_well, touch_tip = True, new_tip=\"always\")\n"
   ]
  },
  {
   "cell_type": "code",
   "execution_count": null,
   "metadata": {},
   "outputs": [],
   "source": [
    "## Enzyme reaction\n",
    "p20_sin.flow_rate.aspirate=5\n",
    "p20_sin.flow_rate.aspirate=5\n",
    "p300_sin.flow_rate.aspirate=25\n",
    "p300_sin.flow_rate.aspirate=25\n",
    "\n",
    "p300_sin.transfer(25, ligation_buf, dna_well, touch_tip = True, new_tip=\"always\")\n",
    "#p20_sin.transfer(10, t4_ligase, dna_well, touch_tip = True, new_tip=\"always\", mix_after=(2,15))\n",
    "#p20_sin.transfer(5, adapter_II, dna_well, touch_tip = True, new_tip=\"always\")"
   ]
  },
  {
   "cell_type": "code",
   "execution_count": 13,
   "metadata": {},
   "outputs": [
    {
     "ename": "TypeError",
     "evalue": "got an unexpected keyword argument 'm'",
     "output_type": "error",
     "traceback": [
      "\u001b[0;31m---------------------------------------------------------------------------\u001b[0m",
      "\u001b[0;31mTypeError\u001b[0m                                 Traceback (most recent call last)",
      "\u001b[0;32m<ipython-input-13-52a31a2c06b1>\u001b[0m in \u001b[0;36m<module>\u001b[0;34m()\u001b[0m\n\u001b[0;32m----> 1\u001b[0;31m \u001b[0mprotocol\u001b[0m\u001b[0;34m.\u001b[0m\u001b[0mdelay\u001b[0m\u001b[0;34m(\u001b[0m\u001b[0mm\u001b[0m\u001b[0;34m=\u001b[0m\u001b[0;36m10\u001b[0m\u001b[0;34m)\u001b[0m\u001b[0;34m\u001b[0m\u001b[0;34m\u001b[0m\u001b[0m\n\u001b[0m\u001b[1;32m      2\u001b[0m \u001b[0mprotocol\u001b[0m\u001b[0;34m.\u001b[0m\u001b[0mpause\u001b[0m\u001b[0;34m(\u001b[0m\u001b[0;34m\"Move tubes to mag_plate and Resume\"\u001b[0m\u001b[0;34m)\u001b[0m\u001b[0;34m\u001b[0m\u001b[0;34m\u001b[0m\u001b[0m\n",
      "\u001b[0;32m/usr/lib/python3.7/site-packages/opentrons/commands/publisher.pyc\u001b[0m in \u001b[0;36m_decorated\u001b[0;34m(*args, **kwargs)\u001b[0m\n",
      "\u001b[0;32m/usr/lib/python3.7/inspect.pyc\u001b[0m in \u001b[0;36mbind\u001b[0;34m(*args, **kwargs)\u001b[0m\n",
      "\u001b[0;32m/usr/lib/python3.7/inspect.pyc\u001b[0m in \u001b[0;36m_bind\u001b[0;34m(self, args, kwargs, partial)\u001b[0m\n",
      "\u001b[0;31mTypeError\u001b[0m: got an unexpected keyword argument 'm'"
     ]
    }
   ],
   "source": [
    "protocol.delay(minutes=9)\n",
    "protocol.pause(\"Move tubes to mag_plate and Resume\")"
   ]
  },
  {
   "cell_type": "code",
   "execution_count": null,
   "metadata": {},
   "outputs": [],
   "source": [
    "## Functions\n",
    "def remove_supernantant(pipette, volume, src, dest):\n",
    "    pipette.pick_up_tip()\n",
    "    pipette.flow_rate.aspirate=20\n",
    "    pipette.aspirate(volume, src.bottom().move(types.Point(x=0, y=0, z=0)))\n",
    "    pipette.dispense(volume, dest)\n",
    "    pipette.drop_tip()"
   ]
  },
  {
   "cell_type": "code",
   "execution_count": null,
   "metadata": {},
   "outputs": [],
   "source": []
  },
  {
   "cell_type": "code",
   "execution_count": null,
   "metadata": {},
   "outputs": [],
   "source": []
  }
 ],
 "metadata": {
  "kernelspec": {
   "display_name": "Python 3",
   "language": "python",
   "name": "python3"
  },
  "language_info": {
   "codemirror_mode": {
    "name": "ipython",
    "version": 3
   },
   "file_extension": ".py",
   "mimetype": "text/x-python",
   "name": "python",
   "nbconvert_exporter": "python",
   "pygments_lexer": "ipython3",
   "version": "3.7.1"
  }
 },
 "nbformat": 4,
 "nbformat_minor": 2
}
