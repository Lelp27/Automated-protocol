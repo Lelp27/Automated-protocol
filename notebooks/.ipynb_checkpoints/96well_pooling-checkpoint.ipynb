{
 "cells": [
  {
   "cell_type": "code",
   "execution_count": 1,
   "metadata": {},
   "outputs": [],
   "source": [
    "from opentrons import protocol_api\n",
    "import opentrons.execute\n",
    "\n",
    "metadata = {\n",
    "    'protocolName': 'Protocol Title',\n",
    "    'author': 'Seong-Kun Bak <tjdrns27@kribb.re.kr>',\n",
    "    'apiLevel': '2.11'   # CHECK IF YOUR API LEVEL HERE IS UP TO DATE\n",
    "}"
   ]
  },
  {
   "cell_type": "code",
   "execution_count": 12,
   "metadata": {},
   "outputs": [],
   "source": [
    "#Reset all of values ex) labware, instrument ..\n",
    "protocol = opentrons.execute.get_protocol_api(\"2.11\")"
   ]
  },
  {
   "cell_type": "code",
   "execution_count": 16,
   "metadata": {},
   "outputs": [
    {
     "name": "stderr",
     "output_type": "stream",
     "text": [
      "Out of bounds move: X=(418.00000000000006 motor controller, 416.970344891251 deck) too high for limit 418.0\n",
      "Out of bounds move: X=(418.00000000000006 motor controller, 416.970344891251 deck) too high for limit 418.0\n"
     ]
    }
   ],
   "source": [
    "protocol.home()"
   ]
  },
  {
   "cell_type": "code",
   "execution_count": 13,
   "metadata": {},
   "outputs": [],
   "source": [
    "        # Plate setting\n",
    "source_plate = protocol.load_labware(\"nest_96_wellplate_100ul_pcr_full_skirt\", 6)\n",
    "dest_plate = protocol.load_labware(\"nest_96_wellplate_100ul_pcr_full_skirt\", 5)\n",
    "\n",
    "        # tiprack\n",
    "tiprack_20_sin = protocol.load_labware(\"opentrons_96_tiprack_20ul\", 2)\n",
    "tiprack_20_mul = protocol.load_labware(\"opentrons_96_tiprack_20ul\", 3)\n",
    "\n",
    "        # Pipette \n",
    "p20_sin = protocol.load_instrument(\"p20_single_gen2\", \"right\", tip_racks=[tiprack_20_sin])\n",
    "#p20_mul = protocol.load_instrument(\"p20_multi_gen2\", \"left\", tip_racks=[tiprack_20_mul])\n"
   ]
  },
  {
   "cell_type": "code",
   "execution_count": 6,
   "metadata": {},
   "outputs": [],
   "source": [
    "        # Tip rack start positions\n",
    "p20_sin.starting_tip = tiprack_20_sin.well(\"A1\")\n",
    "#p20_mul.starting_tip = tiprack_20_mul.well(\"A4\")"
   ]
  },
  {
   "cell_type": "code",
   "execution_count": 36,
   "metadata": {},
   "outputs": [],
   "source": [
    "pcr_product = source_plate.rows_by_name()[\"A\"][0:8] # start to end position of source well\n",
    "tmp_pooling = source_plate.columns_by_name()[\"11\"]"
   ]
  },
  {
   "cell_type": "markdown",
   "metadata": {},
   "source": [
    "#### tmp_pooling"
   ]
  },
  {
   "cell_type": "code",
   "execution_count": 64,
   "metadata": {},
   "outputs": [
    {
     "data": {
      "text/plain": [
       "<InstrumentContext: p20_multi_v2.1 in LEFT>"
      ]
     },
     "execution_count": 64,
     "metadata": {},
     "output_type": "execute_result"
    }
   ],
   "source": [
    "p20_mul.pick_up_tip()\n",
    "p20_mul.consolidate(5, pcr_product, tmp_pooling[0], rate=0.5, new_tip=\"never\")\n",
    "p20_mul.touch_tip()\n",
    "p20_mul.mix(3, 10, tmp_pooling[0], rate=0.5)\n",
    "p20_mul.touch_tip()\n",
    "p20_mul.drop_tip()"
   ]
  },
  {
   "cell_type": "markdown",
   "metadata": {},
   "source": [
    "#### final pooling"
   ]
  },
  {
   "cell_type": "code",
   "execution_count": 71,
   "metadata": {},
   "outputs": [
    {
     "data": {
      "text/plain": [
       "<InstrumentContext: p20_single_v2.2 in RIGHT>"
      ]
     },
     "execution_count": 71,
     "metadata": {},
     "output_type": "execute_result"
    }
   ],
   "source": [
    "p20_sin.pick_up_tip()\n",
    "p20_sin.consolidate(5, tmp_pooling, dest_plate[\"A1\"], rate=0.5, new_tip=\"never\")\n",
    "p20_sin.touch_tip()\n",
    "p20_sin.mix(2, 10, dest_plate[\"A1\"], rate=0.5)\n",
    "p20_sin.touch_tip()\n",
    "p20_sin.return_tip()\n",
    "p20_sin.drop_tip()"
   ]
  }
 ],
 "metadata": {
  "kernelspec": {
   "display_name": "Python 3",
   "language": "python",
   "name": "python3"
  },
  "language_info": {
   "codemirror_mode": {
    "name": "ipython",
    "version": 3
   },
   "file_extension": ".py",
   "mimetype": "text/x-python",
   "name": "python",
   "nbconvert_exporter": "python",
   "pygments_lexer": "ipython3",
   "version": "3.7.1"
  }
 },
 "nbformat": 4,
 "nbformat_minor": 2
}
