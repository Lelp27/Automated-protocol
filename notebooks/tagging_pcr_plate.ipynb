{
 "cells": [
  {
   "cell_type": "code",
   "execution_count": 1,
   "metadata": {},
   "outputs": [],
   "source": [
    "from opentrons import protocol_api\n",
    "import opentrons.execute\n",
    "\n",
    "metadata = {\n",
    "    'protocolName': 'Protocol Title',\n",
    "    'author': 'Seong-Kun Bak <tjdrns27@kribb.re.kr>',\n",
    "    'apiLevel': '2.11'   # CHECK IF YOUR API LEVEL HERE IS UP TO DATE\n",
    "}"
   ]
  },
  {
   "cell_type": "code",
   "execution_count": 2,
   "metadata": {
    "scrolled": true
   },
   "outputs": [
    {
     "name": "stderr",
     "output_type": "stream",
     "text": [
      "Failed to initialize character device, will not be able to control gpios (lights, button, smoothiekill, smoothie reset). Only one connection can be made to the gpios at a time. If you need to control gpios, first stop the robot server with systemctl stop opentrons-robot-server. Until you restart the server with systemctl start opentrons-robot-server, you will be unable to control the robot using the Opentrons app.\n"
     ]
    }
   ],
   "source": [
    "#Reset all of values ex) labware, instrument ..\n",
    "protocol = opentrons.execute.get_protocol_api(\"2.11\")"
   ]
  },
  {
   "cell_type": "code",
   "execution_count": 3,
   "metadata": {
    "scrolled": true
   },
   "outputs": [
    {
     "name": "stderr",
     "output_type": "stream",
     "text": [
      "Out of bounds move: X=(418.00000000000006 motor controller, 416.970344891251 deck) too high for limit 418.0\n",
      "Out of bounds move: X=(418.00000000000006 motor controller, 416.970344891251 deck) too high for limit 418.0\n"
     ]
    }
   ],
   "source": [
    "#after protocol.home is running, can't reset the tiprack's position\n",
    "protocol.home()"
   ]
  },
  {
   "cell_type": "markdown",
   "metadata": {},
   "source": [
    "### Lab ware"
   ]
  },
  {
   "cell_type": "markdown",
   "metadata": {},
   "source": [
    "#### custom plate"
   ]
  },
  {
   "cell_type": "code",
   "execution_count": 4,
   "metadata": {},
   "outputs": [],
   "source": [
    "import json\n",
    "with open(\"nesteppendrf_96_wellplate_150ul.json\") as labware_file:\n",
    "    eppendorf = json.load(labware_file)\n",
    "with open(\"bioneer_96_wellplate_300ul.json\") as labware_file:\n",
    "    bioneer = json.load(labware_file)"
   ]
  },
  {
   "cell_type": "code",
   "execution_count": 5,
   "metadata": {},
   "outputs": [],
   "source": [
    "tag_primer_plate = protocol.load_labware_from_definition(bioneer, 2)\n",
    "destination_plate = protocol.load_labware_from_definition(eppendorf, 1)\n",
    "tiprack_20_sin = protocol.load_labware(\"opentrons_96_tiprack_20ul\", 5)\n",
    "tiprack_20_mul = protocol.load_labware(\"opentrons_96_tiprack_20ul\", 6)\n",
    "\n",
    "p20_sin = protocol.load_instrument(\"p20_single_gen2\", \"right\", tip_racks=[tiprack_20_sin])\n",
    "p20_mul = protocol.load_instrument(\"p20_multi_gen2\", \"left\", tip_racks=[tiprack_20_mul])"
   ]
  },
  {
   "cell_type": "markdown",
   "metadata": {},
   "source": [
    "#### tip position"
   ]
  },
  {
   "cell_type": "code",
   "execution_count": 6,
   "metadata": {},
   "outputs": [],
   "source": [
    "#Input Tip start positions\n",
    "p20_sin.starting_tip = tiprack_20_sin.well(\"G4\")\n",
    "p20_mul.starting_tip = tiprack_20_mul.well(\"A6\")"
   ]
  },
  {
   "cell_type": "markdown",
   "metadata": {},
   "source": [
    "### Liquid setup"
   ]
  },
  {
   "cell_type": "code",
   "execution_count": 11,
   "metadata": {},
   "outputs": [],
   "source": [
    "# Set the Liquid list\n",
    "reverse_tag = tag_primer_plate.rows()[0][0:8]\n",
    "forward_tag_mix = destination_plate.columns()[-1]"
   ]
  },
  {
   "cell_type": "markdown",
   "metadata": {},
   "source": [
    "#### dispense_reverse_tag"
   ]
  },
  {
   "cell_type": "code",
   "execution_count": 144,
   "metadata": {},
   "outputs": [],
   "source": [
    "def reverse_tag_dispense(i):\n",
    "    p20_sin.pick_up_tip()\n",
    "    p20_sin.well_bottom_clearance.aspirate= -1\n",
    "    p20_sin.mix(2,10, reverse_tag[i])\n",
    "    p20_sin.aspirate(10, reverse_tag[i], rate=0.5)\n",
    "    for j in destination_plate.columns()[i]:\n",
    "        p20_sin.dispense(1, j)\n",
    "    p20_sin.drop_tip()"
   ]
  },
  {
   "cell_type": "code",
   "execution_count": 145,
   "metadata": {},
   "outputs": [],
   "source": [
    "for i in range(0, len(reverse_tag)):\n",
    "    reverse_tag_dispense(i)"
   ]
  },
  {
   "cell_type": "markdown",
   "metadata": {},
   "source": [
    "#### transfer_forward_mix"
   ]
  },
  {
   "cell_type": "code",
   "execution_count": 40,
   "metadata": {},
   "outputs": [],
   "source": [
    "source = forward_tag_mix[0]\n",
    "dest = destination_plate.columns()[7][0]"
   ]
  },
  {
   "cell_type": "code",
   "execution_count": 41,
   "metadata": {},
   "outputs": [
    {
     "data": {
      "text/plain": [
       "<InstrumentContext: p20_multi_v2.1 in LEFT>"
      ]
     },
     "execution_count": 41,
     "metadata": {},
     "output_type": "execute_result"
    }
   ],
   "source": [
    "p20_mul.pick_up_tip()\n",
    "p20_mul.well_bottom_clearance.aspirate = -2\n",
    "p20_mul.aspirate(9, source, rate=0.5)"
   ]
  },
  {
   "cell_type": "code",
   "execution_count": 42,
   "metadata": {},
   "outputs": [
    {
     "data": {
      "text/plain": [
       "<InstrumentContext: p20_multi_v2.1 in LEFT>"
      ]
     },
     "execution_count": 42,
     "metadata": {},
     "output_type": "execute_result"
    }
   ],
   "source": [
    "p20_mul.dispense(10, dest, rate=0.5)\n",
    "p20_mul.mix(2, 5, dest, rate=0.5)\n",
    "p20_mul.blow_out()\n",
    "p20_mul.touch_tip()\n",
    "protocol.delay(seconds = 1)\n",
    "p20_mul.drop_tip()"
   ]
  },
  {
   "cell_type": "code",
   "execution_count": null,
   "metadata": {},
   "outputs": [],
   "source": []
  },
  {
   "cell_type": "code",
   "execution_count": null,
   "metadata": {},
   "outputs": [],
   "source": []
  },
  {
   "cell_type": "code",
   "execution_count": null,
   "metadata": {},
   "outputs": [],
   "source": []
  },
  {
   "cell_type": "code",
   "execution_count": 20,
   "metadata": {},
   "outputs": [
    {
     "data": {
      "text/plain": [
       "<InstrumentContext: p20_multi_v2.1 in LEFT>"
      ]
     },
     "execution_count": 20,
     "metadata": {},
     "output_type": "execute_result"
    }
   ],
   "source": [
    "p20_mul.pick_up_tip()\n"
   ]
  },
  {
   "cell_type": "code",
   "execution_count": 25,
   "metadata": {},
   "outputs": [
    {
     "data": {
      "text/plain": [
       "<InstrumentContext: p20_multi_v2.1 in LEFT>"
      ]
     },
     "execution_count": 25,
     "metadata": {},
     "output_type": "execute_result"
    }
   ],
   "source": [
    "p20_mul.return_tip()"
   ]
  },
  {
   "cell_type": "code",
   "execution_count": 38,
   "metadata": {},
   "outputs": [
    {
     "data": {
      "text/plain": [
       "<InstrumentContext: p20_multi_v2.1 in LEFT>"
      ]
     },
     "execution_count": 38,
     "metadata": {},
     "output_type": "execute_result"
    }
   ],
   "source": [
    "p20_mul.drop_tip()"
   ]
  },
  {
   "cell_type": "code",
   "execution_count": null,
   "metadata": {},
   "outputs": [],
   "source": [
    "# protocol.pause(\"Message\") = Break until resume"
   ]
  },
  {
   "cell_type": "code",
   "execution_count": 175,
   "metadata": {},
   "outputs": [
    {
     "data": {
      "text/plain": [
       "<InstrumentContext: p20_multi_v2.1 in LEFT>"
      ]
     },
     "execution_count": 175,
     "metadata": {},
     "output_type": "execute_result"
    }
   ],
   "source": [
    "p20_mul.return_tip()"
   ]
  },
  {
   "cell_type": "code",
   "execution_count": 172,
   "metadata": {},
   "outputs": [
    {
     "data": {
      "text/plain": [
       "<InstrumentContext: p20_multi_v2.1 in LEFT>"
      ]
     },
     "execution_count": 172,
     "metadata": {},
     "output_type": "execute_result"
    }
   ],
   "source": [
    "p20_mul.pick_up_tip()"
   ]
  },
  {
   "cell_type": "code",
   "execution_count": 57,
   "metadata": {},
   "outputs": [],
   "source": [
    "# for starting position reset\n",
    "p20_sin.reset_tipracks()"
   ]
  },
  {
   "cell_type": "code",
   "execution_count": 141,
   "metadata": {
    "scrolled": true
   },
   "outputs": [
    {
     "data": {
      "text/plain": [
       "<InstrumentContext: p20_single_v2.2 in RIGHT>"
      ]
     },
     "execution_count": 141,
     "metadata": {},
     "output_type": "execute_result"
    }
   ],
   "source": [
    "p20_sin.move_to(destination_plate[\"E8\"].top())"
   ]
  },
  {
   "cell_type": "code",
   "execution_count": 142,
   "metadata": {
    "scrolled": true
   },
   "outputs": [
    {
     "data": {
      "text/plain": [
       "<InstrumentContext: p20_single_v2.2 in RIGHT>"
      ]
     },
     "execution_count": 142,
     "metadata": {},
     "output_type": "execute_result"
    }
   ],
   "source": [
    "p20_sin.return_tip()"
   ]
  },
  {
   "cell_type": "code",
   "execution_count": 139,
   "metadata": {
    "scrolled": true
   },
   "outputs": [
    {
     "data": {
      "text/plain": [
       "<InstrumentContext: p20_single_v2.2 in RIGHT>"
      ]
     },
     "execution_count": 139,
     "metadata": {},
     "output_type": "execute_result"
    }
   ],
   "source": [
    "p20_sin.drop_tip()"
   ]
  },
  {
   "cell_type": "code",
   "execution_count": null,
   "metadata": {},
   "outputs": [],
   "source": []
  }
 ],
 "metadata": {
  "kernelspec": {
   "display_name": "Python 3",
   "language": "python",
   "name": "python3"
  },
  "language_info": {
   "codemirror_mode": {
    "name": "ipython",
    "version": 3
   },
   "file_extension": ".py",
   "mimetype": "text/x-python",
   "name": "python",
   "nbconvert_exporter": "python",
   "pygments_lexer": "ipython3",
   "version": "3.7.1"
  }
 },
 "nbformat": 4,
 "nbformat_minor": 2
}
