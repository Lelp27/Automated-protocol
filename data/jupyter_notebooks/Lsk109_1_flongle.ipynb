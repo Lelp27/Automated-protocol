{
 "cells": [
  {
   "cell_type": "code",
   "execution_count": 61,
   "metadata": {},
   "outputs": [],
   "source": [
    "import opentrons.execute\n",
    "from opentrons import types"
   ]
  },
  {
   "cell_type": "code",
   "execution_count": 2,
   "metadata": {},
   "outputs": [],
   "source": [
    "metadata = {\n",
    "    'protocolName': 'Nanopore LSK109(1) DNA endprep_flongle',\n",
    "    'author': 'Seong-Kun Bak <tjdrns27@kribb.re.kr>',\n",
    "    'apiLevel': '2.11',\n",
    "    'description': 'with movable PCR tube pause the protocol when the tube should move'\n",
    "}"
   ]
  },
  {
   "cell_type": "code",
   "execution_count": 3,
   "metadata": {},
   "outputs": [
    {
     "name": "stderr",
     "output_type": "stream",
     "text": [
      "Failed to initialize character device, will not be able to control gpios (lights, button, smoothiekill, smoothie reset). Only one connection can be made to the gpios at a time. If you need to control gpios, first stop the robot server with systemctl stop opentrons-robot-server. Until you restart the server with systemctl start opentrons-robot-server, you will be unable to control the robot using the Opentrons app.\n"
     ]
    }
   ],
   "source": [
    "protocol = opentrons.execute.get_protocol_api(\"2.11\")"
   ]
  },
  {
   "cell_type": "code",
   "execution_count": null,
   "metadata": {},
   "outputs": [],
   "source": [
    "protocol.home()"
   ]
  },
  {
   "cell_type": "markdown",
   "metadata": {},
   "source": [
    "## Labwares"
   ]
  },
  {
   "cell_type": "code",
   "execution_count": 4,
   "metadata": {},
   "outputs": [],
   "source": [
    "module_thermocycler = protocol.load_module(\"thermocycler\")\n",
    "module_magnetic = protocol.load_module('magnetic module gen2', '4')"
   ]
  },
  {
   "cell_type": "code",
   "execution_count": 5,
   "metadata": {},
   "outputs": [],
   "source": [
    "import json\n",
    "with open(\"./labware/bioneer_96_tuberack_200ul.json\") as labware_file:\n",
    "    bioneer_tube = json.load(labware_file)\n",
    "with open(\"./labware/biorad_96_tuberack_200ul.json\") as labware_file:\n",
    "    biorad_tube = json.load(labware_file)"
   ]
  },
  {
   "cell_type": "code",
   "execution_count": 6,
   "metadata": {},
   "outputs": [
    {
     "name": "stderr",
     "output_type": "stream",
     "text": [
      "This labware ({}) is not explicitly compatible with the Magnetic Module. You will have to specify a height when calling engage().\n"
     ]
    }
   ],
   "source": [
    "enzyme_rack = protocol.load_labware(\"opentrons_24_tuberack_eppendorf_1.5ml_safelock_snapcap\", 1)\n",
    "falcon_rack = protocol.load_labware(\"opentrons_6_tuberack_falcon_50ml_conical\", 2)\n",
    "dna_plate = protocol.load_labware_from_definition(bioneer_tube, 5)\n",
    "mag_plate = module_magnetic.load_labware(\"biorad_96_tuberack_200ul\", 4)\n",
    "trash = protocol.loaded_labwares[12][\"A1\"]\n",
    "\n",
    "tiprack_20_sin = protocol.load_labware(\"opentrons_96_tiprack_20ul\", 3)\n",
    "tiprack_300_sin = protocol.load_labware(\"opentrons_96_tiprack_300ul\", 6)"
   ]
  },
  {
   "cell_type": "code",
   "execution_count": 7,
   "metadata": {},
   "outputs": [],
   "source": [
    "p20_sin = protocol.load_instrument(\"p20_single_gen2\", \"right\", tip_racks=[tiprack_20_sin])\n",
    "p300_sin = protocol.load_instrument(\"p300_single_gen2\", \"left\", tip_racks=[tiprack_300_sin])"
   ]
  },
  {
   "cell_type": "code",
   "execution_count": 8,
   "metadata": {},
   "outputs": [],
   "source": [
    "## Sample Wells\n",
    "start_position = 0 ## start from A1\n",
    "sample_number = 2"
   ]
  },
  {
   "cell_type": "code",
   "execution_count": 9,
   "metadata": {},
   "outputs": [],
   "source": [
    "dna_well = [dna_plate.wells()[i] for i in range(start_position, start_position + sample_number)]\n",
    "final_well = [dna_plate.wells()[i] for i in range(start_position + 16, start_position + 16 + sample_number)]\n",
    "mag_well = [mag_plate.wells()[i] for i in range(start_position, start_position + sample_number)]"
   ]
  },
  {
   "cell_type": "markdown",
   "metadata": {},
   "source": [
    "## Reagents"
   ]
  },
  {
   "cell_type": "code",
   "execution_count": 10,
   "metadata": {},
   "outputs": [],
   "source": [
    "repair_buf = enzyme_rack[\"A1\"]\n",
    "repair_enzyme = enzyme_rack[\"A2\"]\n",
    "\n",
    "endprep_buf = enzyme_rack[\"A3\"]\n",
    "endprep_enzyme = enzyme_rack[\"A4\"]\n",
    "\n",
    "water = enzyme_rack[\"A5\"]"
   ]
  },
  {
   "cell_type": "code",
   "execution_count": 11,
   "metadata": {},
   "outputs": [],
   "source": [
    "ampure_beads = falcon_rack[\"A1\"]\n",
    "ethanol_70 = falcon_rack[\"A2\"]"
   ]
  },
  {
   "cell_type": "code",
   "execution_count": 12,
   "metadata": {},
   "outputs": [],
   "source": [
    "## Start Tiprack positions\n",
    "p20_sin.starting_tip = tiprack_20_sin.well(\"C2\")\n",
    "p300_sin.starting_tip = tiprack_300_sin.well(\"E1\")"
   ]
  },
  {
   "cell_type": "code",
   "execution_count": 62,
   "metadata": {},
   "outputs": [],
   "source": [
    "## Functions\n",
    "def remove_supernantant(pipette, volume, src, dest):\n",
    "    pipette.pick_up_tip()\n",
    "    pipette.flow_rate.aspirate=20\n",
    "    pipette.aspirate(volume, src.bottom().move(types.Point(x=0, y=0, z=0)))\n",
    "    pipette.dispense(volume, dest)\n",
    "    pipette.drop_tip()"
   ]
  },
  {
   "cell_type": "code",
   "execution_count": 80,
   "metadata": {},
   "outputs": [
    {
     "data": {
      "text/plain": [
       "<InstrumentContext: p20_single_v2.2 in RIGHT>"
      ]
     },
     "execution_count": 80,
     "metadata": {},
     "output_type": "execute_result"
    }
   ],
   "source": [
    "## Enzyme reaction\n",
    "p20_sin.flow_rate.aspirate=5\n",
    "p20_sin.flow_rate.dispense=5\n",
    "p20_sin.transfer(3.5, repair_buf, dna_well, rate=0.5, new_tip=\"always\")\n",
    "p20_sin.transfer(2, repair_enzyme, dna_well, touch_tip = True, rate=0.3, new_tip=\"always\", mix_after=(2,15))\n",
    "p20_sin.transfer(3.5, endprep_buf, dna_well, new_tip=\"always\")\n",
    "p20_sin.transfer(3, endprep_enzyme, dna_well, touch_tip=True, new_tip=\"always\", mix_after=(2, 15))"
   ]
  },
  {
   "cell_type": "code",
   "execution_count": null,
   "metadata": {},
   "outputs": [],
   "source": [
    "module_thermocycler.open_lid()"
   ]
  },
  {
   "cell_type": "code",
   "execution_count": null,
   "metadata": {},
   "outputs": [],
   "source": [
    "protocol.pause(\"1. Check enzyme\\n2. Spindown\\n3. Move sample tube to thermocycler\\n4. Resume\")\n",
    "protocol.resume()"
   ]
  },
  {
   "cell_type": "code",
   "execution_count": 17,
   "metadata": {},
   "outputs": [
    {
     "name": "stderr",
     "output_type": "stream",
     "text": [
      "alarm/error outside hard halt: ALARM: Hard limit +Z\n",
      "alarm/error: command=M907 A0.1 B0.3 C0.3 X0.3 Y0.3 Z0.8 G4 P0.005 G0 Z208.0 \n",
      "\n",
      ", resp=ALARM: Hard limit +Z\n"
     ]
    },
    {
     "data": {
      "text/plain": [
       "<ThermocyclerLidStatus.CLOSED: 'closed'>"
      ]
     },
     "execution_count": 17,
     "metadata": {},
     "output_type": "execute_result"
    }
   ],
   "source": [
    "module_thermocycler.close_lid()"
   ]
  },
  {
   "cell_type": "code",
   "execution_count": 18,
   "metadata": {},
   "outputs": [],
   "source": [
    "profile = [{'temperature': 20, 'hold_time_minutes': 5},\n",
    "            {'temperature': 65, 'hold_time_minutes': 5},\n",
    "            {'temperature': 4, 'hold_time_minutes': 2}]\n",
    "module_thermocycler.execute_profile(steps=profile, repetitions=1, block_max_volume=60)"
   ]
  },
  {
   "cell_type": "code",
   "execution_count": 19,
   "metadata": {},
   "outputs": [],
   "source": [
    "module_thermocycler.deactivate()\n",
    "module_thermocycler.open_lid()"
   ]
  },
  {
   "cell_type": "code",
   "execution_count": 20,
   "metadata": {},
   "outputs": [
    {
     "data": {
      "text/plain": [
       "<ThermocyclerLidStatus.OPEN: 'open'>"
      ]
     },
     "execution_count": 20,
     "metadata": {},
     "output_type": "execute_result"
    }
   ],
   "source": [
    "module_thermocycler.open_lid()"
   ]
  },
  {
   "cell_type": "code",
   "execution_count": 21,
   "metadata": {},
   "outputs": [
    {
     "data": {
      "text/plain": [
       "<InstrumentContext: p300_single_v2.1 in LEFT>"
      ]
     },
     "execution_count": 21,
     "metadata": {},
     "output_type": "execute_result"
    }
   ],
   "source": [
    "p300_sin.pick_up_tip()\n",
    "p300_sin.mix(5, 300, ampure_beads.bottom(z=3))\n",
    "p300_sin.touch_tip()\n",
    "p300_sin.drop_tip()"
   ]
  },
  {
   "cell_type": "code",
   "execution_count": 29,
   "metadata": {},
   "outputs": [
    {
     "data": {
      "text/plain": [
       "<InstrumentContext: p300_single_v2.1 in LEFT>"
      ]
     },
     "execution_count": 29,
     "metadata": {},
     "output_type": "execute_result"
    }
   ],
   "source": [
    "# 옮기다 bead가 떨어지는 문제발생\n",
    "p300_sin.transfer(80, ampure_beads.bottom(z=15), dna_well, mix_after=(3, 30), touch_tip = True, rate=0.3, new_tip=\"always\")"
   ]
  },
  {
   "cell_type": "code",
   "execution_count": 15,
   "metadata": {},
   "outputs": [],
   "source": [
    "module_magnetic.engage(height_from_base=2.5)\n"
   ]
  },
  {
   "cell_type": "code",
   "execution_count": null,
   "metadata": {},
   "outputs": [],
   "source": [
    "protocol.delay(minutes=5)"
   ]
  },
  {
   "cell_type": "code",
   "execution_count": 91,
   "metadata": {},
   "outputs": [],
   "source": [
    "## Functions\n",
    "def remove_supernantant(pipette, volume, src, dest):\n",
    "    pipette.pick_up_tip()\n",
    "    pipette.flow_rate.aspirate=20\n",
    "    pipette.aspirate(volume, src.bottom().move(types.Point(x=0, y=0, z=-4.2)))\n",
    "    pipette.dispense(volume, dest)\n",
    "    pipette.drop_tip()"
   ]
  },
  {
   "cell_type": "code",
   "execution_count": 96,
   "metadata": {},
   "outputs": [],
   "source": [
    "for src in mag_well:\n",
    "    remove_supernantant(p300_sin, 200, src, trash)"
   ]
  },
  {
   "cell_type": "code",
   "execution_count": 97,
   "metadata": {},
   "outputs": [],
   "source": [
    "p300_sin.flow_rate.aspirate=100\n",
    "p300_sin.flow_rate.dispense=50\n",
    "for _ in range(1):\n",
    "    ## Ethanol\n",
    "    p300_sin.pick_up_tip()\n",
    "    for src in mag_well:\n",
    "        p300_sin.flow_rate.aspirate=100\n",
    "        p300_sin.flow_rate.dispense=50\n",
    "        p300_sin.aspirate(190, ethanol_70)\n",
    "        p300_sin.dispense(190, src.top(-3))\n",
    "    p300_sin.drop_tip()\n",
    "    ## Remove\n",
    "    for src in mag_well:\n",
    "        remove_supernantant(p300_sin, 200, src, trash)"
   ]
  },
  {
   "cell_type": "code",
   "execution_count": 98,
   "metadata": {},
   "outputs": [],
   "source": [
    "module_magnetic.disengage()"
   ]
  }
 ],
 "metadata": {
  "kernelspec": {
   "display_name": "Python 3",
   "language": "python",
   "name": "python3"
  },
  "language_info": {
   "codemirror_mode": {
    "name": "ipython",
    "version": 3
   },
   "file_extension": ".py",
   "mimetype": "text/x-python",
   "name": "python",
   "nbconvert_exporter": "python",
   "pygments_lexer": "ipython3",
   "version": "3.7.1"
  }
 },
 "nbformat": 4,
 "nbformat_minor": 2
}
